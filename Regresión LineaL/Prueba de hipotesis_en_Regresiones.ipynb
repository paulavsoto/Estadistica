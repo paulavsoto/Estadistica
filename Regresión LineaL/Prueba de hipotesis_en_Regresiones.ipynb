{
 "cells": [
  {
   "cell_type": "code",
   "execution_count": 1,
   "id": "0cd6b85f",
   "metadata": {},
   "outputs": [
    {
     "name": "stdout",
     "output_type": "stream",
     "text": [
      "                            OLS Regression Results                            \n",
      "==============================================================================\n",
      "Dep. Variable:                      y   R-squared:                       0.945\n",
      "Model:                            OLS   Adj. R-squared:                  0.934\n",
      "Method:                 Least Squares   F-statistic:                     85.32\n",
      "Date:                Wed, 27 Dec 2023   Prob (F-statistic):           0.000250\n",
      "Time:                        23:56:16   Log-Likelihood:                -64.784\n",
      "No. Observations:                   7   AIC:                             133.6\n",
      "Df Residuals:                       5   BIC:                             133.5\n",
      "Df Model:                           1                                         \n",
      "Covariance Type:            nonrobust                                         \n",
      "==============================================================================\n",
      "                 coef    std err          t      P>|t|      [0.025      0.975]\n",
      "------------------------------------------------------------------------------\n",
      "const      -5211.2676   4423.103     -1.178      0.292   -1.66e+04    6158.682\n",
      "x1          3544.6009    383.738      9.237      0.000    2558.171    4531.030\n",
      "==============================================================================\n",
      "Omnibus:                          nan   Durbin-Watson:                   2.115\n",
      "Prob(Omnibus):                    nan   Jarque-Bera (JB):                2.895\n",
      "Skew:                          -1.474   Prob(JB):                        0.235\n",
      "Kurtosis:                       4.110   Cond. No.                         45.4\n",
      "==============================================================================\n",
      "\n",
      "Notes:\n",
      "[1] Standard Errors assume that the covariance matrix of the errors is correctly specified.\n",
      "\n",
      "Prueba de hipótesis:\n",
      "H0: La escolaridad no tiene efecto significativo en los ingresos\n",
      "H1: La escolaridad tiene un efecto significativo en los ingresos\n",
      "El valor p es 0.00024980116931733, por lo tanto, rechazamos la hipótesis nula.\n",
      "La escolaridad tiene un efecto significativo en los ingresos.\n"
     ]
    },
    {
     "name": "stderr",
     "output_type": "stream",
     "text": [
      "C:\\Users\\usuario\\anaconda3\\Lib\\site-packages\\statsmodels\\stats\\stattools.py:74: ValueWarning: omni_normtest is not valid with less than 8 observations; 7 samples were given.\n",
      "  warn(\"omni_normtest is not valid with less than 8 observations; %i \"\n"
     ]
    }
   ],
   "source": [
    "import numpy as np\n",
    "import statsmodels.api as sm\n",
    "\n",
    "# Datos\n",
    "escolaridad = np.array([8, 10, 12, 14, 16, 11, 7])\n",
    "ingresos = np.array([25000, 30000, 40000, 45000, 52000, 28000, 20000])\n",
    "\n",
    "# Agregamos una columna de unos para el término independiente\n",
    "X = sm.add_constant(escolaridad)\n",
    "\n",
    "# Ajustamos el modelo de regresión lineal\n",
    "modelo = sm.OLS(ingresos, X).fit()\n",
    "\n",
    "# Resumen del modelo\n",
    "print(modelo.summary())\n",
    "\n",
    "# Prueba de hipótesis sobre la variable de escolaridad\n",
    "print(\"\\nPrueba de hipótesis:\")\n",
    "print(\"H0: La escolaridad no tiene efecto significativo en los ingresos\")\n",
    "print(\"H1: La escolaridad tiene un efecto significativo en los ingresos\")\n",
    "\n",
    "# Definimos nuestra hipótesis nula\n",
    "# El valor p está asociado con la variable escolaridad (coeficiente)\n",
    "valor_p_escolaridad = modelo.pvalues[1]\n",
    "\n",
    "# Nivel de significancia (usualmente 0.05)\n",
    "nivel_significancia = 0.05\n",
    "\n",
    "if valor_p_escolaridad < nivel_significancia:\n",
    "    print(f\"El valor p es {valor_p_escolaridad}, por lo tanto, rechazamos la hipótesis nula.\")\n",
    "    print(\"La escolaridad tiene un efecto significativo en los ingresos.\")\n",
    "else:\n",
    "    print(f\"El valor p es {valor_p_escolaridad}, por lo tanto, no podemos rechazar la hipótesis nula.\")\n",
    "    print(\"No hay suficiente evidencia para afirmar que la escolaridad tenga un efecto significativo en los ingresos.\")\n"
   ]
  },
  {
   "cell_type": "code",
   "execution_count": null,
   "id": "7d0f3af5",
   "metadata": {},
   "outputs": [],
   "source": [
    "# Datos\n",
    "escolaridad = np.array([8, 10, 12, 14, 16, 11, 7])"
   ]
  },
  {
   "cell_type": "code",
   "execution_count": null,
   "id": "ba08270b",
   "metadata": {},
   "outputs": [],
   "source": []
  },
  {
   "cell_type": "code",
   "execution_count": null,
   "id": "65796d82",
   "metadata": {},
   "outputs": [],
   "source": []
  },
  {
   "cell_type": "code",
   "execution_count": null,
   "id": "3a432c98",
   "metadata": {},
   "outputs": [],
   "source": []
  },
  {
   "cell_type": "code",
   "execution_count": null,
   "id": "686766c2",
   "metadata": {},
   "outputs": [],
   "source": []
  },
  {
   "cell_type": "code",
   "execution_count": null,
   "id": "cf724e12",
   "metadata": {},
   "outputs": [],
   "source": []
  }
 ],
 "metadata": {
  "kernelspec": {
   "display_name": "Python 3 (ipykernel)",
   "language": "python",
   "name": "python3"
  },
  "language_info": {
   "codemirror_mode": {
    "name": "ipython",
    "version": 3
   },
   "file_extension": ".py",
   "mimetype": "text/x-python",
   "name": "python",
   "nbconvert_exporter": "python",
   "pygments_lexer": "ipython3",
   "version": "3.11.5"
  }
 },
 "nbformat": 4,
 "nbformat_minor": 5
}
